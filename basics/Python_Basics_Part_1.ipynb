{
  "nbformat": 4,
  "nbformat_minor": 0,
  "metadata": {
    "colab": {
      "provenance": [],
      "authorship_tag": "ABX9TyMsAbJBQcHMdtbmPYFvS8hE",
      "include_colab_link": true
    },
    "kernelspec": {
      "name": "python3",
      "display_name": "Python 3"
    },
    "language_info": {
      "name": "python"
    }
  },
  "cells": [
    {
      "cell_type": "markdown",
      "metadata": {
        "id": "view-in-github",
        "colab_type": "text"
      },
      "source": [
        "<a href=\"https://colab.research.google.com/github/DHS-GirlsWhoCode/Python/blob/main/basics/Python_Basics_Part_1.ipynb\" target=\"_parent\"><img src=\"https://colab.research.google.com/assets/colab-badge.svg\" alt=\"Open In Colab\"/></a>"
      ]
    },
    {
      "cell_type": "markdown",
      "source": [
        "# Dublin Girls Who Code - Python Basics\n",
        "Follow along with the lecture slides to practice your coding abilities with these notebooks!"
      ],
      "metadata": {
        "id": "BU1te4zSSAgA"
      }
    },
    {
      "cell_type": "markdown",
      "source": [
        "> 1.1 -- A comment, a note written for human developers that is ignored by the machine, is written with a # preceding it like this: `# comment`\n",
        "\n",
        "Write a comment of your name!"
      ],
      "metadata": {
        "id": "hWCFNFksobAI"
      }
    },
    {
      "cell_type": "code",
      "execution_count": null,
      "metadata": {
        "id": "lB855b4bR5wV"
      },
      "outputs": [],
      "source": []
    },
    {
      "cell_type": "markdown",
      "source": [
        "> *Printing* something means displaying it on the console so that the user can see it. It follows the syntax of `print()`. Note the parentheses around whatever's being printed -- whether it's a number, string, or variable.\n",
        "\n",
        "Remember this syntax -- it'll come up all the time in the following lessons!"
      ],
      "metadata": {
        "id": "grv9Bl9lo2-9"
      }
    },
    {
      "cell_type": "markdown",
      "source": [
        "> 1.3 -- Math with Python uses the same basic operators as we do on pen and paper (+ for addition, - for subtraction.) However, some may look unfamiliar:\n",
        "*   `*` for multiplication\n",
        "*   `/` for division\n",
        "*   `**` for exponent\n",
        "*   `%` **modulo** - finds the remainder from a division operator\n",
        "*   `//` **floor division** - division, but rounds down\n",
        "\n",
        "Your tasks:\n",
        "*   Print the sum of 5 and 2\n",
        "*   Print the difference between 7 and 4\n",
        "*   Print 10 squared\n",
        "*   Print the remainder of dividing 100 by 3\n",
        "*   Print the floor division operation of 5 divided by 3"
      ],
      "metadata": {
        "id": "jtKqri22pMPz"
      }
    },
    {
      "cell_type": "code",
      "source": [
        "# Write the expressions within the print statements\n",
        "print() # sum of 5 and 2\n",
        "print() # difference between 7 and 4\n",
        "print() # 10 squared\n",
        "print() # remainder of dividing 100 by 3\n",
        "print() # floor division operation of 5 divided by 3"
      ],
      "metadata": {
        "id": "lssZNlAQpJou"
      },
      "execution_count": null,
      "outputs": []
    },
    {
      "cell_type": "markdown",
      "source": [
        "Because we're in a notebook environment, just writing and running the expression alone/or as the final statement will automatically output the value to the console."
      ],
      "metadata": {
        "id": "KG0gM85cqxBM"
      }
    },
    {
      "cell_type": "code",
      "source": [
        "# try running this!\n",
        "4+3"
      ],
      "metadata": {
        "id": "pAZ4uJMLq5Pw"
      },
      "execution_count": null,
      "outputs": []
    },
    {
      "cell_type": "markdown",
      "source": [
        "However, look what happens when we put another statement after simply running the arithmetic statement."
      ],
      "metadata": {
        "id": "8v-XuKWcrIXq"
      }
    },
    {
      "cell_type": "code",
      "source": [
        "4+3\n",
        "print(\"Some other command\")"
      ],
      "metadata": {
        "id": "rFRqAGmvrs95"
      },
      "execution_count": null,
      "outputs": []
    },
    {
      "cell_type": "markdown",
      "source": [
        "Our value isn't outputted! So to ensure we can either view this value in the console or save it in our computer's memory, we use a print statement or assign it to a **variable**."
      ],
      "metadata": {
        "id": "R-b838hPrwVd"
      }
    },
    {
      "cell_type": "code",
      "source": [
        "print(4+3)\n",
        "print(\"We can print multiple things to the console!\")"
      ],
      "metadata": {
        "id": "UtPCUksSr49P"
      },
      "execution_count": null,
      "outputs": []
    },
    {
      "cell_type": "markdown",
      "source": [
        ">A variable is like a container, or a pointer in our computer memory, that is assigned a data value of any type. You can create and assign a variable by stating its name (following PEP8 guidelines, of course) and stating what it's equal to.\n",
        "\n",
        ">Unlike Java, which is statically typed, Python is dynamically typed, meaning you don't have to state what type of data (think back to the datatypes in Python slide) a variable contains.\n",
        "\n",
        "After looking at the slide example of creating the variables `number_dogs` and `number_cats` and assigning them the integer values 3 and 2 respectively, let's use variables for multiplication.\n",
        "\n",
        "Create a variable num_rows and a variable num_cols to represent the number of rows and columns in an array. Then, use Python math to find the total amount of elements in the array (remember that this is equal to the *product* of rows and columns.)"
      ],
      "metadata": {
        "id": "GUxaGK4BsF4F"
      }
    },
    {
      "cell_type": "code",
      "source": [
        "# create variables\n",
        "\n",
        "\n",
        "# use math to find total number of elements"
      ],
      "metadata": {
        "id": "9pk6aar9taVI"
      },
      "execution_count": null,
      "outputs": []
    },
    {
      "cell_type": "markdown",
      "source": [
        "Example 2: Your bill at the restaurant was $30. You want to find how much a 15% tip would be and how much the total including the tip is.\n",
        "\n",
        "*   Create a variable called `bill` representing the original amount your food cost\n",
        "*   Create a variable called `tip` using `bill` and the calculations we learned in 1.3 to represent your tip\n",
        "*   Create a variable `total` that is the sum of your bill and your tip.\n",
        "\n"
      ],
      "metadata": {
        "id": "avn1nnHktkO7"
      }
    },
    {
      "cell_type": "code",
      "source": [
        "# bill\n",
        "\n",
        "# tip\n",
        "\n",
        "# total"
      ],
      "metadata": {
        "id": "w2W1KVesu_I-"
      },
      "execution_count": null,
      "outputs": []
    },
    {
      "cell_type": "markdown",
      "source": [
        "Bonus Question: What kind of datatype is `tip`? How is it different from `bill`?"
      ],
      "metadata": {
        "id": "QCaWm9JkwINn"
      }
    },
    {
      "cell_type": "markdown",
      "source": [
        "> Strings are an ordered sequence of alphanumerical characters encased in either single quotes or double quotes. They can be indexed and sliced based on an ordered index that begins at 0.\n",
        "\n",
        "Create a string with the first six letters of the alphabet - a, b, c, d, e, and f inside of it. "
      ],
      "metadata": {
        "id": "rjnh7kYevCMQ"
      }
    },
    {
      "cell_type": "code",
      "source": [
        "# your string here\n"
      ],
      "metadata": {
        "id": "78JBnaLbvlFP"
      },
      "execution_count": null,
      "outputs": []
    },
    {
      "cell_type": "markdown",
      "source": [
        "> You can index individual characters in a string using brackets `[]` following the string or the variable name that's assigned to the string.\n",
        "\n",
        "Copy paste your string and index the 3rd letter in the alphabet. Remember that this is index two because the Python index begins with 0.\n",
        "\n",
        "*Note: You can either just give the index command or you can print the indexed character. This follows the same logic as the arithmetic above.*"
      ],
      "metadata": {
        "id": "1PxEF8frv2ha"
      }
    },
    {
      "cell_type": "code",
      "source": [
        "# copy paste string\n",
        "\n",
        "# index"
      ],
      "metadata": {
        "id": "6ZsoPpp0wBX0"
      },
      "execution_count": null,
      "outputs": []
    },
    {
      "cell_type": "markdown",
      "source": [
        "Let's practice using variables. Assign your mini alphabet string to a variable called `alphabet` and index the fourth letter in the alphabet."
      ],
      "metadata": {
        "id": "V2XoRyKcxXLj"
      }
    },
    {
      "cell_type": "code",
      "source": [
        "# assign variable alphabet\n",
        "\n",
        "# index"
      ],
      "metadata": {
        "id": "W5D4866jxjeP"
      },
      "execution_count": null,
      "outputs": []
    },
    {
      "cell_type": "markdown",
      "source": [
        "> Strings also have a reverse index that begins at the last character of the string with the index -1 and going down by 1 for every character you move towards the left. Note that it doesn't start at 0, which makes sense, given that the index 0 is the first character of the string.\n",
        "\n",
        "Practice using the reverse index by indexing the last letter of your string! You can do this either by copy pasting the string again or simply using your variable `alphabet` -- variables are shared by all the cells in a Colab notebook."
      ],
      "metadata": {
        "id": "qJvYknhSx1bW"
      }
    },
    {
      "cell_type": "code",
      "source": [
        "# index the last character in the string"
      ],
      "metadata": {
        "id": "T9QcMfSYzB4u"
      },
      "execution_count": null,
      "outputs": []
    },
    {
      "cell_type": "code",
      "source": [
        "# if you like, practice more using the reverse index"
      ],
      "metadata": {
        "id": "AY1L01DpzLDU"
      },
      "execution_count": null,
      "outputs": []
    },
    {
      "cell_type": "markdown",
      "source": [
        "> Strings can also be sliced -- that is, indexed across multiple index positions.\n",
        "To slice starting from a certain index to the end, follow the format:\n",
        "`Stringname[startingindex:]`. To slice from the beginning to a certain index, follow the format: `Stringname[:endingindex]`\n",
        "To slice from one index to another, follow the format:\n",
        "`Stringname[startingindex:endingindex]`. *Note: The beginning index is included but the ending index is NOT!*\n",
        "\n",
        "Using these slicing techniques:\n",
        "* Slice from the letter \"q\" all the way\n",
        "* Slice all the way up to the end of the word \"the\"\n",
        "* Slice the word \"brown\""
      ],
      "metadata": {
        "id": "V_rdlvZrzjgb"
      }
    },
    {
      "cell_type": "code",
      "source": [
        "# example sentence provided (note that spaces and periods count as characters too)\n",
        "example_string = \"The quick brown fox jumps over the lazy dog.\"\n",
        "# slice all starting from the letter q\n",
        "\n",
        "# slice up to the end of the word the\n",
        "\n",
        "# slice the word \"brown\""
      ],
      "metadata": {
        "id": "mTIYnmPo3zP8"
      },
      "execution_count": null,
      "outputs": []
    },
    {
      "cell_type": "markdown",
      "source": [
        "There's also a 3rd parameter we can bring in: step size!"
      ],
      "metadata": {
        "id": "T1kqr_CQ46Ug"
      }
    },
    {
      "cell_type": "code",
      "source": [
        "base_string = \"String slicing is an important Python skill\"\n",
        "\n",
        "# print every other character of a string\n",
        "print(\"printing every other character of the string:\")\n",
        "# your code here\n",
        "\n",
        "# print string reversed\n",
        "print(\"printing every other character of the string:\")\n",
        "# your code here\n"
      ],
      "metadata": {
        "id": "DiumVzYwBnR_"
      },
      "execution_count": null,
      "outputs": []
    },
    {
      "cell_type": "markdown",
      "source": [
        "> Lists are ordered objects which can hold mixed data types. For example: you could have a list of all integers, a list of all strings, and a list that has both. They are surrounded by square brackets `[]` and their separate items (also called elements) are separated by commas.\n",
        "\n",
        "Make a list with the numbers 1, 2, and 3.\n",
        "\n",
        "Make a list with any 3 strings of your choosing!"
      ],
      "metadata": {
        "id": "K1btvBxOVr7H"
      }
    },
    {
      "cell_type": "code",
      "source": [],
      "metadata": {
        "id": "uV6SgxIiXJec"
      },
      "execution_count": null,
      "outputs": []
    },
    {
      "cell_type": "markdown",
      "source": [
        "You can use the command `len()` with the name of the list inside it to return the number of objects in a list. "
      ],
      "metadata": {
        "id": "gWV3hYMfXJsU"
      }
    },
    {
      "cell_type": "code",
      "source": [],
      "metadata": {
        "id": "M8G-DaxeXjsU"
      },
      "execution_count": null,
      "outputs": []
    },
    {
      "cell_type": "markdown",
      "source": [
        "TO BE CONTINUED @ NEXT MEETING!"
      ],
      "metadata": {
        "id": "kRsoPuHfXmID"
      }
    }
  ]
}