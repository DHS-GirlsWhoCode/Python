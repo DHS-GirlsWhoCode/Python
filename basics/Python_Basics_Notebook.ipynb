{
  "nbformat": 4,
  "nbformat_minor": 0,
  "metadata": {
    "colab": {
      "provenance": [],
      "authorship_tag": "ABX9TyOdEOT/Omn4i47CmF1js+I9",
      "include_colab_link": true
    },
    "kernelspec": {
      "name": "python3",
      "display_name": "Python 3"
    },
    "language_info": {
      "name": "python"
    }
  },
  "cells": [
    {
      "cell_type": "markdown",
      "metadata": {
        "id": "view-in-github",
        "colab_type": "text"
      },
      "source": [
        "<a href=\"https://colab.research.google.com/github/DHS-GirlsWhoCode/Python/blob/main/basics/Python_Basics_Notebook.ipynb\" target=\"_parent\"><img src=\"https://colab.research.google.com/assets/colab-badge.svg\" alt=\"Open In Colab\"/></a>"
      ]
    },
    {
      "cell_type": "markdown",
      "source": [
        "# Dublin Girls Who Code - Python Basics\n",
        "Follow along with the lecture slides to practice your coding abilities with these notebooks!"
      ],
      "metadata": {
        "id": "BU1te4zSSAgA"
      }
    },
    {
      "cell_type": "markdown",
      "source": [
        "> 1.1 -- A comment, a note written for human developers that is ignored by the machine, is written with a # preceding it like this: `# comment`\n",
        "\n",
        "Write a comment of your name!"
      ],
      "metadata": {
        "id": "hWCFNFksobAI"
      }
    },
    {
      "cell_type": "code",
      "execution_count": null,
      "metadata": {
        "id": "lB855b4bR5wV"
      },
      "outputs": [],
      "source": []
    },
    {
      "cell_type": "markdown",
      "source": [
        "> *Printing* something means displaying it on the console so that the user can see it. It follows the syntax of `print()`. Note the parentheses around whatever's being printed -- whether it's a number, string, or variable.\n",
        "\n",
        "Remember this syntax -- it'll come up all the time in the following lessons!"
      ],
      "metadata": {
        "id": "grv9Bl9lo2-9"
      }
    },
    {
      "cell_type": "markdown",
      "source": [
        "> 1.3 -- Math with Python uses the same basic operators as we do on pen and paper (+ for addition, - for subtraction.) However, some may look unfamiliar:\n",
        "*   `*` for multiplication\n",
        "*   `/` for division\n",
        "*   `**` for exponent\n",
        "*   `%` **modulo** - finds the remainder from a division operator\n",
        "*   `//` **floor division** - division, but rounds down\n",
        "\n",
        "Your tasks:\n",
        "*   Print the sum of 5 and 2\n",
        "*   Print the difference between 7 and 4\n",
        "*   Print 10 squared\n",
        "*   Print the remainder of dividing 100 by 3\n",
        "*   Print the floor division operation of 5 divided by 3"
      ],
      "metadata": {
        "id": "jtKqri22pMPz"
      }
    },
    {
      "cell_type": "code",
      "source": [
        "# Write the expressions within the print statements\n",
        "print() # sum of 5 and 2\n",
        "print() # difference between 7 and 4\n",
        "print() # 10 squared\n",
        "print() # remainder of dividing 100 by 3\n",
        "print() # floor division operation of 5 divided by 3"
      ],
      "metadata": {
        "id": "lssZNlAQpJou"
      },
      "execution_count": null,
      "outputs": []
    },
    {
      "cell_type": "markdown",
      "source": [
        "Because we're in a notebook environment, just writing and running the expression alone/or as the final statement will automatically output the value to the console."
      ],
      "metadata": {
        "id": "KG0gM85cqxBM"
      }
    },
    {
      "cell_type": "code",
      "source": [
        "# try running this!\n",
        "4+3"
      ],
      "metadata": {
        "colab": {
          "base_uri": "https://localhost:8080/"
        },
        "id": "pAZ4uJMLq5Pw",
        "outputId": "9690f603-aaa7-4b14-86be-ce57344ab241"
      },
      "execution_count": 1,
      "outputs": [
        {
          "output_type": "execute_result",
          "data": {
            "text/plain": [
              "7"
            ]
          },
          "metadata": {},
          "execution_count": 1
        }
      ]
    },
    {
      "cell_type": "markdown",
      "source": [
        "However, look what happens when we put another statement after simply running the arithmetic statement."
      ],
      "metadata": {
        "id": "8v-XuKWcrIXq"
      }
    },
    {
      "cell_type": "code",
      "source": [
        "4+3\n",
        "print(\"Some other command\")"
      ],
      "metadata": {
        "colab": {
          "base_uri": "https://localhost:8080/"
        },
        "id": "rFRqAGmvrs95",
        "outputId": "1a179c7e-5562-4fba-c2f9-21a117fc4379"
      },
      "execution_count": 2,
      "outputs": [
        {
          "output_type": "stream",
          "name": "stdout",
          "text": [
            "Some other command\n"
          ]
        }
      ]
    },
    {
      "cell_type": "markdown",
      "source": [
        "Our value isn't outputted! So to ensure we can either view this value in the console or save it in our computer's memory, we use a print statement or assign it to a **variable**."
      ],
      "metadata": {
        "id": "R-b838hPrwVd"
      }
    },
    {
      "cell_type": "code",
      "source": [
        "print(4+3)\n",
        "print(\"We can print multiple things to the console!\")"
      ],
      "metadata": {
        "colab": {
          "base_uri": "https://localhost:8080/"
        },
        "id": "UtPCUksSr49P",
        "outputId": "107f82ea-db59-4e3a-d12e-cce55303d3e0"
      },
      "execution_count": 3,
      "outputs": [
        {
          "output_type": "stream",
          "name": "stdout",
          "text": [
            "7\n",
            "We can print multiple things to the console!\n"
          ]
        }
      ]
    },
    {
      "cell_type": "markdown",
      "source": [
        ">A variable is like a container, or a pointer in our computer memory, that is assigned a data value of any type. You can create and assign a variable by stating its name (following PEP8 guidelines, of course) and stating what it's equal to.\n",
        "\n",
        ">Unlike Java, which is statically typed, Python is dynamically typed, meaning you don't have to state what type of data (think back to the datatypes in Python slide) a variable contains.\n",
        "\n",
        "After looking at the slide example of creating the variables `number_dogs` and `number_cats` and assigning them the integer values 3 and 2 respectively, let's use variables for multiplication.\n",
        "\n",
        "Create a variable num_rows and a variable num_cols to represent the number of rows and columns in an array. Then, use Python math to find the total amount of elements in the array (remember that this is equal to the *product* of rows and columns.)"
      ],
      "metadata": {
        "id": "GUxaGK4BsF4F"
      }
    },
    {
      "cell_type": "code",
      "source": [
        "# create variables\n",
        "\n",
        "\n",
        "# use math to find total number of elements"
      ],
      "metadata": {
        "id": "9pk6aar9taVI"
      },
      "execution_count": null,
      "outputs": []
    },
    {
      "cell_type": "markdown",
      "source": [],
      "metadata": {
        "id": "avn1nnHktkO7"
      }
    }
  ]
}